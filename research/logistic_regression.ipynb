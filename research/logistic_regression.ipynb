{
 "cells": [
  {
   "cell_type": "code",
   "execution_count": null,
   "id": "brown-granny",
   "metadata": {},
   "outputs": [],
   "source": [
    "import pandas as pd\n",
    "import numpy as np\n",
    "import json\n",
    "import requests\n",
    "import pymongo\n",
    "from sklearn.model_selection import train_test_split\n",
    "import statsmodels.api as sm\n",
    "from sklearn import metrics\n",
    "import seaborn as sn\n",
    "\n",
    "import sys\n",
    "sys.path.insert(1, '/Users/peterberryman/Desktop/bts_advisor')\n",
    "import app"
   ]
  },
  {
   "cell_type": "markdown",
   "id": "defined-reducing",
   "metadata": {},
   "source": [
    "### Past Results"
   ]
  },
  {
   "cell_type": "code",
   "execution_count": null,
   "id": "measured-learning",
   "metadata": {},
   "outputs": [],
   "source": [
    "# Database\n",
    "client = pymongo.MongoClient(input())"
   ]
  },
  {
   "cell_type": "code",
   "execution_count": null,
   "id": "final-electron",
   "metadata": {},
   "outputs": [],
   "source": [
    "database = client['statcast']\n",
    "collection = database['statcastEvents']"
   ]
  },
  {
   "cell_type": "code",
   "execution_count": null,
   "id": "controlled-titanium",
   "metadata": {},
   "outputs": [],
   "source": [
    "statcast_df = pd.DataFrame(collection.find())\n",
    "statcast_df"
   ]
  },
  {
   "cell_type": "code",
   "execution_count": null,
   "id": "mobile-constitutional",
   "metadata": {},
   "outputs": [],
   "source": [
    "statcast_df['hit'] = statcast_df['events'].apply(lambda event: 1 if event in ['home_run', 'triple', 'double', 'single'] else 0)\n",
    "statcast_df"
   ]
  },
  {
   "cell_type": "code",
   "execution_count": null,
   "id": "aging-charleston",
   "metadata": {},
   "outputs": [],
   "source": [
    "outcomes_df = statcast_df.groupby(['game_pk', 'batter'])['hit'].sum().reset_index()\n",
    "outcomes_df['hit'] = outcomes_df['hit'].apply(lambda x: 1 if x > 0 else x)\n",
    "outcomes_df"
   ]
  },
  {
   "cell_type": "code",
   "execution_count": null,
   "id": "approved-reminder",
   "metadata": {},
   "outputs": [],
   "source": [
    "outcomes_df['hit'].value_counts()"
   ]
  },
  {
   "cell_type": "markdown",
   "id": "animated-tanzania",
   "metadata": {},
   "source": [
    "### Predictors"
   ]
  },
  {
   "cell_type": "code",
   "execution_count": null,
   "id": "authorized-tender",
   "metadata": {},
   "outputs": [],
   "source": [
    "schedule = app.get_schedule(year=2021)"
   ]
  },
  {
   "cell_type": "code",
   "execution_count": null,
   "id": "public-cornell",
   "metadata": {},
   "outputs": [],
   "source": [
    "schedule = schedule[schedule['game_time'] == 'Final']\n",
    "game_dates = schedule['game_date'].unique()[10:-1]\n",
    "game_dates"
   ]
  },
  {
   "cell_type": "code",
   "execution_count": null,
   "id": "variable-contrary",
   "metadata": {},
   "outputs": [],
   "source": [
    "rows_df, games_df, metrics_df = pd.DataFrame(), pd.DataFrame(), pd.DataFrame()\n",
    "for date in game_dates[-4:-1]:\n",
    "    url = f'http://localhost:5000/loadTableData?hitMin=10&date={date}'\n",
    "    print(url)\n",
    "    response = requests.get(url)\n",
    "    response_json = json.loads(response.text)\n",
    "    rows_df = rows_df.append(pd.DataFrame(response_json['rows']), ignore_index=True)\n",
    "    games_df = games_df.append(pd.DataFrame(response_json['games']).T.reset_index().rename({'index': 'game_pk'}, axis=1), ignore_index=True)\n",
    "    metrics_df = metrics_df.append(pd.DataFrame(response_json['metrics']).T.reset_index().rename({'index': 'batter'}, axis=1), ignore_index=True)"
   ]
  },
  {
   "cell_type": "code",
   "execution_count": null,
   "id": "tracked-phone",
   "metadata": {},
   "outputs": [],
   "source": [
    "# Base\n",
    "rows_df"
   ]
  },
  {
   "cell_type": "code",
   "execution_count": null,
   "id": "potential-composite",
   "metadata": {},
   "outputs": [],
   "source": [
    "# Lineups\n",
    "games_df = games_df\n",
    "games_df['game_pk'] = games_df['game_pk'].astype(int)\n",
    "df = pd.merge(rows_df, games_df[['game_pk', 'away_lineup', 'home_lineup']], on='game_pk')\n",
    "df['order'] = df.apply(lambda row: row['away_lineup'].index(row['batter']) + 1 if row['batter'] in row['away_lineup'] else row['home_lineup'].index(row['batter']) + 1 if row['batter'] in row['home_lineup'] else 0, axis=1)\n",
    "df = df[df['order'] > 0].drop(['away_lineup', 'home_lineup'], axis=1)\n",
    "df"
   ]
  },
  {
   "cell_type": "code",
   "execution_count": null,
   "id": "postal-christianity",
   "metadata": {},
   "outputs": [],
   "source": [
    "# Outcomes\n",
    "df = pd.merge(df, outcomes_df, on=['game_pk', 'batter'])\n",
    "df"
   ]
  },
  {
   "cell_type": "code",
   "execution_count": null,
   "id": "domestic-uniform",
   "metadata": {},
   "outputs": [],
   "source": [
    "# Metrics\n",
    "metrics_df['batter'] = metrics_df['batter'].astype(int)\n",
    "metrics_df.drop([col for col in metrics_df.columns if col.endswith('_color')], axis=1, inplace=True)\n",
    "df = pd.merge(df, metrics_df, how='left', on='batter')\n",
    "df"
   ]
  },
  {
   "cell_type": "code",
   "execution_count": null,
   "id": "official-concentrate",
   "metadata": {},
   "outputs": [],
   "source": [
    "# Remove extraneous columns\n",
    "df.drop([col for col in ['batter', 'game_pk', 'probability', 'B', 'name', 'team', 'G_weighted', 'H_weighted'] if col in df.columns], axis=1, inplace=True)\n",
    "df"
   ]
  },
  {
   "cell_type": "markdown",
   "id": "reduced-geography",
   "metadata": {},
   "source": [
    "### Model"
   ]
  },
  {
   "cell_type": "code",
   "execution_count": null,
   "id": "parental-scanning",
   "metadata": {},
   "outputs": [],
   "source": [
    "X = df.drop('hit', axis=1)\n",
    "y = df['hit']\n",
    "X_train, X_test, y_train, y_test = train_test_split(X, y, test_size=0.3, random_state=0)"
   ]
  },
  {
   "cell_type": "code",
   "execution_count": null,
   "id": "professional-transportation",
   "metadata": {},
   "outputs": [],
   "source": [
    "y_train.value_counts()"
   ]
  },
  {
   "cell_type": "code",
   "execution_count": null,
   "id": "fabulous-struggle",
   "metadata": {},
   "outputs": [],
   "source": [
    "X_train[X_train.isna().any(axis=1)]"
   ]
  },
  {
   "cell_type": "code",
   "execution_count": null,
   "id": "bigger-audio",
   "metadata": {},
   "outputs": [],
   "source": [
    "model = sm.Logit(y_train, X_train.astype(float)).fit()\n",
    "model.summary()"
   ]
  },
  {
   "cell_type": "code",
   "execution_count": null,
   "id": "outside-manor",
   "metadata": {},
   "outputs": [],
   "source": [
    "y_pred = model.predict(X_test.astype(float))\n",
    "X_test_copy = X_test.copy()\n",
    "X_test_copy['probability'] = y_pred\n",
    "X_test_copy"
   ]
  },
  {
   "cell_type": "code",
   "execution_count": null,
   "id": "worse-confidentiality",
   "metadata": {},
   "outputs": [],
   "source": [
    "confusion_matrix = pd.crosstab(y_test, y_pred, rownames=['Actual'], colnames=['Predicted'])\n",
    "sn.heatmap(confusion_matrix, annot=True)"
   ]
  },
  {
   "cell_type": "code",
   "execution_count": null,
   "id": "intensive-romance",
   "metadata": {},
   "outputs": [],
   "source": []
  }
 ],
 "metadata": {
  "kernelspec": {
   "display_name": "Python 3",
   "language": "python",
   "name": "python3"
  },
  "language_info": {
   "codemirror_mode": {
    "name": "ipython",
    "version": 3
   },
   "file_extension": ".py",
   "mimetype": "text/x-python",
   "name": "python",
   "nbconvert_exporter": "python",
   "pygments_lexer": "ipython3",
   "version": "3.7.9"
  }
 },
 "nbformat": 4,
 "nbformat_minor": 5
}
