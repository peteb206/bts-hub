{
 "cells": [
  {
   "cell_type": "code",
   "execution_count": null,
   "id": "mexican-liberal",
   "metadata": {},
   "outputs": [],
   "source": [
    "import pandas as pd\n",
    "import numpy as np\n",
    "import json\n",
    "import requests\n",
    "from sklearn.model_selection import train_test_split\n",
    "import statsmodels.api as sm\n",
    "from sklearn import metrics\n",
    "import seaborn as sn\n",
    "\n",
    "import sys\n",
    "sys.path.insert(1, '/Users/peterberryman/Desktop/bts_advisor')\n",
    "import app"
   ]
  },
  {
   "cell_type": "markdown",
   "id": "standard-pepper",
   "metadata": {},
   "source": [
    "### Predictors"
   ]
  },
  {
   "cell_type": "code",
   "execution_count": null,
   "id": "front-extraction",
   "metadata": {},
   "outputs": [],
   "source": [
    "schedule = app.get_schedule(year=2021)\n",
    "schedule"
   ]
  },
  {
   "cell_type": "code",
   "execution_count": null,
   "id": "color-switzerland",
   "metadata": {},
   "outputs": [],
   "source": [
    "schedule = schedule[schedule['game_time'] == 'Final']\n",
    "game_dates = schedule['game_date'].unique()[30:-1] # Not interested in first month of season (not enough data)\n",
    "game_dates"
   ]
  },
  {
   "cell_type": "code",
   "execution_count": null,
   "id": "relative-contrary",
   "metadata": {},
   "outputs": [],
   "source": [
    "dfs = list()\n",
    "for date in game_dates[-11:-1]:\n",
    "    print(date)\n",
    "    dfs.append(pd.read_json(f'http://localhost:5000/loadTableData?hitMin=10&date={date}'))\n",
    "df = pd.concat(dfs, ignore_index=True)"
   ]
  },
  {
   "cell_type": "code",
   "execution_count": null,
   "id": "technological-barbados",
   "metadata": {},
   "outputs": [],
   "source": [
    "# Remove extraneous columns\n",
    "df.drop([col for col in ['batter', 'game_pk', 'probability', 'B', 'name', 'team', 'G_weighted', 'H_weighted'] if col in df.columns], axis=1, inplace=True)\n",
    "df['hit'] = df['hit'].apply(lambda x: 1 if x > 0 else 0)\n",
    "df.columns"
   ]
  },
  {
   "cell_type": "code",
   "execution_count": null,
   "id": "acute-henry",
   "metadata": {},
   "outputs": [],
   "source": [
    "df"
   ]
  },
  {
   "cell_type": "markdown",
   "id": "wrapped-strap",
   "metadata": {},
   "source": [
    "### Model"
   ]
  },
  {
   "cell_type": "code",
   "execution_count": null,
   "id": "exposed-bones",
   "metadata": {},
   "outputs": [],
   "source": [
    "X = df.drop('hit', axis=1)\n",
    "y = df['hit']\n",
    "X_train, X_test, y_train, y_test = train_test_split(X, y, test_size=0.3, random_state=0)"
   ]
  },
  {
   "cell_type": "code",
   "execution_count": null,
   "id": "electoral-hypothetical",
   "metadata": {},
   "outputs": [],
   "source": [
    "y_train.value_counts()"
   ]
  },
  {
   "cell_type": "code",
   "execution_count": null,
   "id": "banned-institute",
   "metadata": {},
   "outputs": [],
   "source": [
    "X_train[X_train.isna().any(axis=1)]"
   ]
  },
  {
   "cell_type": "code",
   "execution_count": null,
   "id": "functional-change",
   "metadata": {},
   "outputs": [],
   "source": [
    "model = sm.Logit(y_train, X_train.astype(float)).fit()\n",
    "model.summary()"
   ]
  },
  {
   "cell_type": "code",
   "execution_count": null,
   "id": "dominican-talent",
   "metadata": {},
   "outputs": [],
   "source": [
    "y_pred = model.predict(X_test.astype(float))\n",
    "X_test_copy = X_test.copy()\n",
    "X_test_copy['probability'] = y_pred\n",
    "X_test_copy"
   ]
  },
  {
   "cell_type": "code",
   "execution_count": null,
   "id": "understood-queens",
   "metadata": {},
   "outputs": [],
   "source": [
    "threshold = 0.75"
   ]
  },
  {
   "cell_type": "code",
   "execution_count": null,
   "id": "independent-updating",
   "metadata": {},
   "outputs": [],
   "source": [
    "confusion_matrix = pd.crosstab(y_test, y_pred.apply(lambda x: 1 if x >= threshold else 0), rownames=['Actual'], colnames=['Predicted'])\n",
    "sn.heatmap(confusion_matrix, annot=True)"
   ]
  },
  {
   "cell_type": "code",
   "execution_count": null,
   "id": "impossible-benefit",
   "metadata": {},
   "outputs": [],
   "source": [
    "model.save('log_reg_model.pickle')"
   ]
  }
 ],
 "metadata": {
  "kernelspec": {
   "display_name": "Python 3",
   "language": "python",
   "name": "python3"
  },
  "language_info": {
   "codemirror_mode": {
    "name": "ipython",
    "version": 3
   },
   "file_extension": ".py",
   "mimetype": "text/x-python",
   "name": "python",
   "nbconvert_exporter": "python",
   "pygments_lexer": "ipython3",
   "version": "3.7.9"
  }
 },
 "nbformat": 4,
 "nbformat_minor": 5
}
