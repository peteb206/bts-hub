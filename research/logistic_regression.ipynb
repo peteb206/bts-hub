{
 "cells": [
  {
   "cell_type": "code",
   "execution_count": null,
   "id": "usual-exhaust",
   "metadata": {},
   "outputs": [],
   "source": [
    "import pandas as pd\n",
    "import numpy as np\n",
    "import json\n",
    "import requests\n",
    "from sklearn.model_selection import train_test_split\n",
    "import statsmodels.api as sm\n",
    "from sklearn import metrics\n",
    "import seaborn as sn\n",
    "import app"
   ]
  },
  {
   "cell_type": "markdown",
   "id": "nonprofit-dealing",
   "metadata": {},
   "source": [
    "### Predictors"
   ]
  },
  {
   "cell_type": "code",
   "execution_count": null,
   "id": "protected-thesis",
   "metadata": {},
   "outputs": [],
   "source": [
    "schedule = app.get_schedule(year=2021)\n",
    "schedule"
   ]
  },
  {
   "cell_type": "code",
   "execution_count": null,
   "id": "written-amino",
   "metadata": {},
   "outputs": [],
   "source": [
    "schedule = schedule[schedule['game_time'] == 'Final']\n",
    "game_dates = schedule['game_date'].unique()\n",
    "game_dates = list(filter(lambda date: date.split('-')[1] > '05', game_dates)) # Ignore games early in the season (not enough data)\n",
    "game_dates"
   ]
  },
  {
   "cell_type": "code",
   "execution_count": null,
   "id": "missing-manufacturer",
   "metadata": {},
   "outputs": [],
   "source": [
    "df = pd.read_json('http://localhost:5000/loadTableData?hitMin=10&date={}'.format(','.join(game_dates)))\n",
    "df"
   ]
  },
  {
   "cell_type": "code",
   "execution_count": null,
   "id": "annoying-employee",
   "metadata": {},
   "outputs": [],
   "source": [
    "# Remove extraneous columns\n",
    "df.drop([col for col in ['batter', 'game_pk', 'probability', 'B', 'name', 'team', 'G_weighted', 'H_weighted'] if col in df.columns], axis=1, inplace=True)\n",
    "df['hit'] = df['hit'].apply(lambda x: 1 if x > 0 else 0)\n",
    "df.columns"
   ]
  },
  {
   "cell_type": "code",
   "execution_count": null,
   "id": "contemporary-majority",
   "metadata": {},
   "outputs": [],
   "source": [
    "df = df[(df['H_total'] >= 30) & (df['order'] > -1)]\n",
    "df"
   ]
  },
  {
   "cell_type": "markdown",
   "id": "scientific-consolidation",
   "metadata": {},
   "source": [
    "### Model"
   ]
  },
  {
   "cell_type": "code",
   "execution_count": null,
   "id": "decreased-grammar",
   "metadata": {},
   "outputs": [],
   "source": [
    "predictors = ['H_per_BF_vs_B_Hand', 'H_per_PA_vs_BP', 'H_per_PA_vs_SP_Hand', 'hit_bullpen', 'hit_pct_total', 'hit_pct_weighted', 'order', 'xBA_bullpen', 'xH_per_G_total', 'xH_per_G_weighted', 'x_hit_pct_total', 'x_hit_pct_weighted']\n",
    "X = df[predictors]\n",
    "y = df['hit']\n",
    "X_train, X_test, y_train, y_test = train_test_split(X, y, test_size=0.3, random_state=0)"
   ]
  },
  {
   "cell_type": "code",
   "execution_count": null,
   "id": "sudden-float",
   "metadata": {},
   "outputs": [],
   "source": [
    "y_train.value_counts()"
   ]
  },
  {
   "cell_type": "code",
   "execution_count": null,
   "id": "canadian-september",
   "metadata": {},
   "outputs": [],
   "source": [
    "X_train[X_train.isna().any(axis=1)]"
   ]
  },
  {
   "cell_type": "code",
   "execution_count": null,
   "id": "printable-brick",
   "metadata": {},
   "outputs": [],
   "source": [
    "model = sm.Logit(y_train, X_train.astype(float)).fit()\n",
    "model.summary()"
   ]
  },
  {
   "cell_type": "code",
   "execution_count": null,
   "id": "improving-antique",
   "metadata": {},
   "outputs": [],
   "source": [
    "y_pred = model.predict(X_test.astype(float))\n",
    "X_test_copy = X_test.copy()\n",
    "X_test_copy['probability'] = y_pred\n",
    "X_test_copy.sort_values(by='probability', ascending=False)"
   ]
  },
  {
   "cell_type": "code",
   "execution_count": null,
   "id": "variable-episode",
   "metadata": {},
   "outputs": [],
   "source": [
    "threshold = 0.6"
   ]
  },
  {
   "cell_type": "code",
   "execution_count": null,
   "id": "continuous-question",
   "metadata": {},
   "outputs": [],
   "source": [
    "confusion_matrix = pd.crosstab(y_test, y_pred.apply(lambda x: 1 if x >= threshold else 0), rownames=['Actual'], colnames=['Predicted'])\n",
    "sn.heatmap(confusion_matrix, annot=True, cmap='Blues', fmt='g')"
   ]
  },
  {
   "cell_type": "code",
   "execution_count": null,
   "id": "distant-details",
   "metadata": {},
   "outputs": [],
   "source": [
    "model.save('/Users/peterberryman/Desktop/bts_advisor/log_reg_model.pickle')"
   ]
  },
  {
   "cell_type": "code",
   "execution_count": null,
   "id": "turkish-upgrade",
   "metadata": {},
   "outputs": [],
   "source": []
  }
 ],
 "metadata": {
  "kernelspec": {
   "display_name": "Python 3",
   "language": "python",
   "name": "python3"
  },
  "language_info": {
   "codemirror_mode": {
    "name": "ipython",
    "version": 3
   },
   "file_extension": ".py",
   "mimetype": "text/x-python",
   "name": "python",
   "nbconvert_exporter": "python",
   "pygments_lexer": "ipython3",
   "version": "3.7.9"
  }
 },
 "nbformat": 4,
 "nbformat_minor": 5
}
