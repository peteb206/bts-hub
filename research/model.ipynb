{
 "cells": [
  {
   "cell_type": "code",
   "execution_count": null,
   "id": "employed-grammar",
   "metadata": {},
   "outputs": [],
   "source": [
    "import pandas as pd\n",
    "import pymongo\n",
    "import os\n",
    "import sys\n",
    "import inspect\n",
    "import datetime"
   ]
  },
  {
   "cell_type": "code",
   "execution_count": null,
   "id": "bigger-review",
   "metadata": {},
   "outputs": [],
   "source": [
    "# Database\n",
    "client = pymongo.MongoClient(input())\n",
    "database = client['bts_advisor']\n",
    "collection = database['statcast']"
   ]
  },
  {
   "cell_type": "code",
   "execution_count": null,
   "id": "subjective-heading",
   "metadata": {},
   "outputs": [],
   "source": [
    "# Put in a DataFrame\n",
    "today = datetime.date(2021, 8, 18)\n",
    "orig_df = pd.DataFrame(collection.find())\n",
    "statcast_df = orig_df[orig_df['game_date'] < today.strftime('%Y-%m-%d')]\n",
    "statcast_df"
   ]
  },
  {
   "cell_type": "code",
   "execution_count": null,
   "id": "sacred-medicaid",
   "metadata": {},
   "outputs": [],
   "source": [
    "base_directory = os.path.dirname(os.path.dirname(os.path.abspath(inspect.getfile(inspect.currentframe()))))\n",
    "base_directory"
   ]
  },
  {
   "cell_type": "code",
   "execution_count": null,
   "id": "delayed-regard",
   "metadata": {},
   "outputs": [],
   "source": [
    "sys.path.insert(0, base_directory)\n",
    "from app import calculate_hit_pct"
   ]
  },
  {
   "cell_type": "code",
   "execution_count": null,
   "id": "medical-thousand",
   "metadata": {},
   "outputs": [],
   "source": [
    "# Hit %\n",
    "hit_pct_df = calculate_hit_pct(statcast_df)\n",
    "hit_pct_df"
   ]
  },
  {
   "cell_type": "code",
   "execution_count": null,
   "id": "gothic-broadcasting",
   "metadata": {},
   "outputs": [],
   "source": [
    "# Hit % (last 7 days)\n",
    "seven_days_ago = today - datetime.timedelta(days=7)\n",
    "hit_pct_7_df = calculate_hit_pct(statcast_df[statcast_df['game_date'] >= seven_days_ago.strftime('%Y-%m-%d')])\n",
    "hit_pct_7_df"
   ]
  },
  {
   "cell_type": "code",
   "execution_count": null,
   "id": "functional-cooperative",
   "metadata": {},
   "outputs": [],
   "source": [
    "# H / PA vs Relievers\n",
    "relievers_df = statcast_df[statcast_df['starter_flg'] == False]\n",
    "xBA_vs_bullpen_df = relievers_df.groupby('batter')['hit'].mean().reset_index().rename({'batter': 'player_id', 'hit': 'H_per_PA'}, axis=1).sort_values(by='H_per_PA', ascending=False)\n",
    "xBA_vs_bullpen_df"
   ]
  },
  {
   "cell_type": "code",
   "execution_count": null,
   "id": "similar-initial",
   "metadata": {},
   "outputs": [],
   "source": [
    "# H / PA vs Pitcher Hand\n",
    "xBA_vs_pitcher_hand_df = statcast_df.groupby(['batter', 'pitcher_handedness'])['hit'].mean().reset_index().rename({'batter': 'player_id', 'pitcher_handedness': 'vs', 'hit': 'H_per_PA'}, axis=1).sort_values(by='H_per_PA', ascending=False)\n",
    "xBA_vs_pitcher_hand_df"
   ]
  },
  {
   "cell_type": "code",
   "execution_count": null,
   "id": "popular-wings",
   "metadata": {},
   "outputs": [],
   "source": [
    "# H / PA vs Batter Hand\n",
    "xBA_vs_batter_hand_df = statcast_df.groupby(['pitcher', 'batter_handedness'])['hit'].mean().reset_index().rename({'picher': 'player_id', 'batter_handedness': 'vs', 'hit': 'H_per_PA'}, axis=1).sort_values(by='H_per_PA')\n",
    "xBA_vs_batter_hand_df"
   ]
  },
  {
   "cell_type": "code",
   "execution_count": null,
   "id": "desirable-billy",
   "metadata": {},
   "outputs": [],
   "source": [
    "# Starters\n",
    "starters_list = orig_df[(orig_df['game_date'] == today.strftime('%Y-%m-%d')) & (orig_df['starter_flg'] == True)]['pitcher'].unique().tolist()\n",
    "starters_list"
   ]
  },
  {
   "cell_type": "code",
   "execution_count": null,
   "id": "lonely-profession",
   "metadata": {},
   "outputs": [],
   "source": [
    "# Merge data\n",
    "merge1 = pd.merge(hit_pct_df, hit_pct_7_df, on=['player_id', 'player_name'], suffixes=('', '7'))\n",
    "merge2 = pd.merge(merge1, xBA_vs_bullpen_df, on='player_id').rename({'H_per_PA': 'H / PA (BP)'}, axis=1)\n",
    "merge2"
   ]
  },
  {
   "cell_type": "code",
   "execution_count": null,
   "id": "complimentary-asian",
   "metadata": {},
   "outputs": [],
   "source": [
    "def calculate_hit_per_pa(statcast_df):\n",
    "    start_time = time.time() # Start timer\n",
    "\n",
    "    #batter_vs_pitcher_hand_df = statcast_df.groupby(['batter', 'pitcher_handedness'])['hit'].mean().reset_index().rename({'batter': 'player_id', 'pitcher_handedness': 'vs', 'hit': 'H_per_PA'}, axis=1)\n",
    "    batter_vs_pitcher_hand_df = statcast_df.pivot_table(values='hit', index='batter', columns='pitcher_handedness').reset_index().rename({'batter': 'player_id'}, axis=1)\n",
    "\n",
    "    batter_vs_relievers_df = statcast_df[statcast_df['starter_flg'] == False].groupby('batter')['hit'].mean().reset_index().rename({'batter': 'player_id', 'hit': 'H_per_PA'}, axis=1).sort_values(by='H_per_PA', ascending=False)\n",
    "\n",
    "    pitcher_vs_batter_hand_df = statcast_df[statcast_df['pitcher'].isin(starters_list)].groupby(['pitcher', 'batter_handedness'])['hit'].mean().reset_index().rename({'pitcher': 'player_id', 'batter_handedness': 'vs', 'hit': 'H_per_PA'}, axis=1)\n",
    "\n",
    "    #stop_timer('calculate_hit_per_pa()', start_time) # Stop timer\n",
    "    return batter_vs_pitcher_hand_df, batter_vs_relievers_df, pitcher_vs_batter_hand_df\n",
    "calculate_hit_per_pa(statcast_df)"
   ]
  },
  {
   "cell_type": "code",
   "execution_count": null,
   "id": "serial-stretch",
   "metadata": {},
   "outputs": [],
   "source": [
    "import time"
   ]
  },
  {
   "cell_type": "code",
   "execution_count": null,
   "id": "dental-degree",
   "metadata": {},
   "outputs": [],
   "source": []
  }
 ],
 "metadata": {
  "kernelspec": {
   "display_name": "Python 3",
   "language": "python",
   "name": "python3"
  },
  "language_info": {
   "codemirror_mode": {
    "name": "ipython",
    "version": 3
   },
   "file_extension": ".py",
   "mimetype": "text/x-python",
   "name": "python",
   "nbconvert_exporter": "python",
   "pygments_lexer": "ipython3",
   "version": "3.7.9"
  }
 },
 "nbformat": 4,
 "nbformat_minor": 5
}
